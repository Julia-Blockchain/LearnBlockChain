{
 "cells": [
  {
   "cell_type": "markdown",
   "metadata": {},
   "source": [
    "# Blockchain Wallet\n",
    "\n",
    "One of the ways that currency is stored and passed between people in decentralized applications is through a wallet model. Here we will explore the basic structure of one."
   ]
  },
  {
   "cell_type": "code",
   "execution_count": 4,
   "metadata": {},
   "outputs": [],
   "source": [
    "using Random\n",
    "using ECC\n",
    "using Nettle\n",
    "using SHA"
   ]
  },
  {
   "cell_type": "code",
   "execution_count": 5,
   "metadata": {},
   "outputs": [],
   "source": [
    "struct Wallet\n",
    "    seed::String\n",
    "    secexp::Int # Note that this is not being used correctly right now.\n",
    "    private_key::PrivateKey\n",
    "    public_key::String\n",
    "    \n",
    "    function Wallet(seed_hex=nothing)\n",
    "        if seed_hex != nothing\n",
    "            seed = seed_hex\n",
    "        else\n",
    "            seed = randstring(32)\n",
    "        end\n",
    "        \n",
    "        # Given the ECC package does not provide a public key function, we will make a simple one\n",
    "        new(seed, 1, ECC.PrivateKey(10), bytes2hex(sha256(\"Public Key\")))\n",
    "    end\n",
    "end\n",
    "\n"
   ]
  },
  {
   "cell_type": "code",
   "execution_count": 16,
   "metadata": {},
   "outputs": [
    {
     "data": {
      "text/plain": [
       "Wallet(\"Y3IrprUfgPuX6wVgSpvXiXq5qt7YFtNy\", 1, PrivateKey(10, scep256k1 Point(𝑥,𝑦):\n",
       "a0434d9e47f3c86235477c7b1ae6ae5d3442d49b1943c2b752a68e2a47e247c7,\n",
       "893aba425419bc27a3b6c7e693a24c696f794c2ed877a1593cbee53b037368d7), \"a51af74c1dda1bf0f6a64455d747f7e14aa8cda977cbe7b26fb9d5323125d41a\")"
      ]
     },
     "execution_count": 16,
     "metadata": {},
     "output_type": "execute_result"
    }
   ],
   "source": [
    "myWallet = Wallet()"
   ]
  },
  {
   "cell_type": "code",
   "execution_count": 17,
   "metadata": {},
   "outputs": [
    {
     "data": {
      "text/plain": [
       "sign_message (generic function with 2 methods)"
      ]
     },
     "execution_count": 17,
     "metadata": {},
     "output_type": "execute_result"
    }
   ],
   "source": [
    "# Because of the current limitations of the ECC package, we can only encrypt numbers and not other datatypes.s\n",
    "function sign_message(wallet::Wallet, message::Int)\n",
    "    signature = ECC.pksign(wallet.private_key, message)\n",
    "    return(signature)\n",
    "end"
   ]
  },
  {
   "cell_type": "code",
   "execution_count": 19,
   "metadata": {},
   "outputs": [
    {
     "data": {
      "text/plain": [
       "scep256k1 signature(𝑟, 𝑠):\n",
       "2887d1bb89fd44d21097467bacd140bc8e0c2eab3d8f28061445d9b3c8ef712d,\n",
       "7479be94bdb1ed1b767776e681add6839490331d082db57716930bcd22a8fdbc"
      ]
     },
     "execution_count": 19,
     "metadata": {},
     "output_type": "execute_result"
    }
   ],
   "source": [
    "sig = sign_message(myWallet, 100)"
   ]
  },
  {
   "cell_type": "code",
   "execution_count": 20,
   "metadata": {},
   "outputs": [
    {
     "data": {
      "text/plain": [
       "verify_signature (generic function with 1 method)"
      ]
     },
     "execution_count": 20,
     "metadata": {},
     "output_type": "execute_result"
    }
   ],
   "source": [
    "function verify_signature(wallet::Wallet, signature::Signature, message::Int)\n",
    "    verified = ECC.verify(wallet.private_key.𝑃, message, signature)    \n",
    "    return(verified)\n",
    "end"
   ]
  },
  {
   "cell_type": "code",
   "execution_count": 21,
   "metadata": {},
   "outputs": [
    {
     "data": {
      "text/plain": [
       "true"
      ]
     },
     "execution_count": 21,
     "metadata": {},
     "output_type": "execute_result"
    }
   ],
   "source": [
    "verify_signature(myWallet, sig, 100)"
   ]
  },
  {
   "cell_type": "code",
   "execution_count": 24,
   "metadata": {},
   "outputs": [
    {
     "data": {
      "text/plain": [
       "display_creation (generic function with 1 method)"
      ]
     },
     "execution_count": 24,
     "metadata": {},
     "output_type": "execute_result"
    }
   ],
   "source": [
    "function display_creation(wallet::Wallet)\n",
    "    println(\"Wallet Seed: $(wallet.seed)\")\n",
    "    println(\"Not so secret exponent: $(wallet.secexp)\")\n",
    "    println(\"Public Key: $(wallet.public_key)\")\n",
    "    println(\"Private Key: $(wallet.private_key)\")\n",
    "end"
   ]
  },
  {
   "cell_type": "code",
   "execution_count": 25,
   "metadata": {},
   "outputs": [
    {
     "name": "stdout",
     "output_type": "stream",
     "text": [
      "Wallet Seed: Y3IrprUfgPuX6wVgSpvXiXq5qt7YFtNy\n",
      "Not so secret exponent: 1\n",
      "Public Key: a51af74c1dda1bf0f6a64455d747f7e14aa8cda977cbe7b26fb9d5323125d41a\n",
      "Private Key: PrivateKey(10, scep256k1 Point(𝑥,𝑦):\n",
      "a0434d9e47f3c86235477c7b1ae6ae5d3442d49b1943c2b752a68e2a47e247c7,\n",
      "893aba425419bc27a3b6c7e693a24c696f794c2ed877a1593cbee53b037368d7)\n"
     ]
    }
   ],
   "source": [
    "display_creation(myWallet)"
   ]
  },
  {
   "cell_type": "markdown",
   "metadata": {},
   "source": [
    "Now let's try using a different number other than the initial one (again note we must use numbers because of the way the ECC package is setup right now). Any number besides 100 should return false..."
   ]
  },
  {
   "cell_type": "code",
   "execution_count": 26,
   "metadata": {},
   "outputs": [
    {
     "data": {
      "text/plain": [
       "false"
      ]
     },
     "execution_count": 26,
     "metadata": {},
     "output_type": "execute_result"
    }
   ],
   "source": [
    "verify_signature(myWallet, sig, 101)"
   ]
  },
  {
   "cell_type": "markdown",
   "metadata": {},
   "source": [
    "Looking at what we have done above, we have built a basic wallet. Note that this is not a cryptographically secure wallet right now given the lack of secret exponent implementation along with no public key setup. With that said, we should be able to see the basic structure of things. The next step would be to create an account registry, using the wallet shown here, so we can keep track of the transactions and amount of coin each entity on the blockchain has."
   ]
  },
  {
   "cell_type": "code",
   "execution_count": null,
   "metadata": {},
   "outputs": [],
   "source": []
  }
 ],
 "metadata": {
  "kernelspec": {
   "display_name": "Julia 1.6.0",
   "language": "julia",
   "name": "julia-1.6"
  },
  "language_info": {
   "file_extension": ".jl",
   "mimetype": "application/julia",
   "name": "julia",
   "version": "1.6.0"
  }
 },
 "nbformat": 4,
 "nbformat_minor": 4
}
