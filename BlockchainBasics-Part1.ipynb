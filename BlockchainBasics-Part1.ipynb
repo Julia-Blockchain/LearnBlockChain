{
 "cells": [
  {
   "cell_type": "markdown",
   "metadata": {},
   "source": [
    "# Learn the basics of Blockchain with Julia\n",
    "## Part 1 - Cryptography"
   ]
  },
  {
   "cell_type": "markdown",
   "metadata": {},
   "source": [
    "We will start out our journey using Blockchain in Julia learning about some simple cryptographic functions (of which there are many flavors and variants). Cryptography is the back bone of blockchain and while that may not be clear now, as we work through some future examples, you will start to see why it is so important.\n",
    "\n",
    "The first example we will look at uses SHA 256, which quite simply takes some data and generates an almost unique signature (more on that later) for that data. It is worth noting that SHA 256 and other cryptographic functions are not encrypting the data. Encrypting means we are able to reverse the process with some function. That is not the case with hash functions.  Want to learn more about the inner workings of SHA-256? Check out: https://qvault.io/cryptography/how-sha-2-works-step-by-step-sha-256/"
   ]
  },
  {
   "cell_type": "code",
   "execution_count": 1,
   "metadata": {},
   "outputs": [],
   "source": [
    "# We will be using https://github.com/JuliaCrypto/SHA.jl\n",
    "using SHA"
   ]
  },
  {
   "cell_type": "markdown",
   "metadata": {},
   "source": [
    "So, let's play around with some cryptographic functions. When we run the `sha256` function below, pay attention to the output."
   ]
  },
  {
   "cell_type": "code",
   "execution_count": 2,
   "metadata": {},
   "outputs": [
    {
     "data": {
      "text/plain": [
       "32-element Vector{UInt8}:\n",
       " 0x9f\n",
       " 0x86\n",
       " 0xd0\n",
       " 0x81\n",
       " 0x88\n",
       " 0x4c\n",
       " 0x7d\n",
       " 0x65\n",
       " 0x9a\n",
       " 0x2f\n",
       " 0xea\n",
       " 0xa0\n",
       " 0xc5\n",
       "    ⋮\n",
       " 0x2b\n",
       " 0x0b\n",
       " 0x82\n",
       " 0x2c\n",
       " 0xd1\n",
       " 0x5d\n",
       " 0x6c\n",
       " 0x15\n",
       " 0xb0\n",
       " 0xf0\n",
       " 0x0a\n",
       " 0x08"
      ]
     },
     "execution_count": 2,
     "metadata": {},
     "output_type": "execute_result"
    }
   ],
   "source": [
    "sha256(\"test\")"
   ]
  },
  {
   "cell_type": "markdown",
   "metadata": {},
   "source": [
    "You can see that the output is a vector of Unsigned Int's, 32 of them to be exact. This makes perfect sense given that SHA256 has a 32-bit output. But the above is kind of hard to look at, so let's convert that from bytes to hex... "
   ]
  },
  {
   "cell_type": "code",
   "execution_count": 5,
   "metadata": {},
   "outputs": [
    {
     "data": {
      "text/plain": [
       "\"9f86d081884c7d659a2feaa0c55ad015a3bf4f1b2b0b822cd15d6c15b0f00a08\""
      ]
     },
     "execution_count": 5,
     "metadata": {},
     "output_type": "execute_result"
    }
   ],
   "source": [
    "bytes2hex(sha256(\"test\"))"
   ]
  },
  {
   "cell_type": "code",
   "execution_count": 4,
   "metadata": {},
   "outputs": [
    {
     "data": {
      "text/plain": [
       "String"
      ]
     },
     "execution_count": 4,
     "metadata": {},
     "output_type": "execute_result"
    }
   ],
   "source": [
    "typeof(bytes2hex(sha256(\"test\")))"
   ]
  },
  {
   "cell_type": "markdown",
   "metadata": {},
   "source": [
    "Here you can see the result of converting bytes to hex and that hex is represented using a String in Julia. So far we have been using the SHA package in Julia, but we are reaching the end of its use. We will now look at a more comprehensive package called Nettle.jl and see why it is likely what we will want to use moving forward."
   ]
  },
  {
   "cell_type": "code",
   "execution_count": 7,
   "metadata": {},
   "outputs": [],
   "source": [
    "# Note that the best practive is to have all using's at the top of the file.\n",
    "using Nettle"
   ]
  },
  {
   "cell_type": "code",
   "execution_count": 9,
   "metadata": {},
   "outputs": [
    {
     "data": {
      "text/plain": [
       "\"2e99758548972a8e8822ad47fa1017ff72f06f3ff6a016851f45c398732bc50c\""
      ]
     },
     "execution_count": 9,
     "metadata": {},
     "output_type": "execute_result"
    }
   ],
   "source": [
    "h = Hasher(\"sha256\")\n",
    "Nettle.update!(h, \"this is a test\")\n",
    "hexdigest!(h)"
   ]
  },
  {
   "cell_type": "markdown",
   "metadata": {},
   "source": [
    "Above, we create a `Hasher`, set the encoding to `sha256`, and then call the update function to get the hash value of \"this is a test\". Lastly, we call the `hexdigest!` function to get the actual hex representation of the string. Nettle also allows for other hash types like `SHA512` as seen below."
   ]
  },
  {
   "cell_type": "code",
   "execution_count": 10,
   "metadata": {},
   "outputs": [
    {
     "data": {
      "text/plain": [
       "\"7d0a8468ed220400c0b8e6f335baa7e070ce880a37e2ac5995b9a97b809026de626da636ac7365249bb974c719edf543b52ed286646f437dc7f810cc2068375c\""
      ]
     },
     "execution_count": 10,
     "metadata": {},
     "output_type": "execute_result"
    }
   ],
   "source": [
    "hexdigest(\"sha512\", \"this is a test\")"
   ]
  },
  {
   "cell_type": "markdown",
   "metadata": {},
   "source": [
    "A quick word on why this all matters: hash functions are the backbone of blockchain. This is because there is the need for unique identifiers (hash's) of various objects/strings across the blockchain ecosystem. For example, an address of someone in a blockchain network can be hashed. We don't necessarily want everyone to know the address of all other addresses that exist, so we we used 1, 2, 3, etc to label addresses, there would be a lot of issues that come up. Besides addresses, there are many other use-cases for hash function that we will cover in more details later on. "
   ]
  },
  {
   "cell_type": "markdown",
   "metadata": {},
   "source": [
    "## Encryption and Decryption\n",
    "Now that we have played around a little with some of the cryptographic functions in the Nettle and SHA, let's dive into the ability to encrypt information using Nettle.jl."
   ]
  },
  {
   "cell_type": "code",
   "execution_count": 22,
   "metadata": {},
   "outputs": [
    {
     "data": {
      "text/plain": [
       "AES256 Encryption state"
      ]
     },
     "execution_count": 22,
     "metadata": {},
     "output_type": "execute_result"
    }
   ],
   "source": [
    "key = SHA.sha256(\"This is my key\")\n",
    "enc = Encryptor(\"AES256\", key)"
   ]
  },
  {
   "cell_type": "markdown",
   "metadata": {},
   "source": [
    "Above we created our key using sha256 and then created an encryptor using the `AES256` standard."
   ]
  },
  {
   "cell_type": "code",
   "execution_count": 25,
   "metadata": {},
   "outputs": [
    {
     "data": {
      "text/plain": [
       "16-element Vector{UInt8}:\n",
       " 0xac\n",
       " 0x6a\n",
       " 0xb9\n",
       " 0x00\n",
       " 0x82\n",
       " 0xc1\n",
       " 0x8e\n",
       " 0x3f\n",
       " 0x68\n",
       " 0x77\n",
       " 0xc6\n",
       " 0xab\n",
       " 0x68\n",
       " 0x67\n",
       " 0xf3\n",
       " 0x30"
      ]
     },
     "execution_count": 25,
     "metadata": {},
     "output_type": "execute_result"
    }
   ],
   "source": [
    "# Create a 16 byte string.\n",
    "plaintext = \"This is a secret\"\n",
    "ciphertext = encrypt(enc, plaintext)"
   ]
  },
  {
   "cell_type": "code",
   "execution_count": 27,
   "metadata": {},
   "outputs": [
    {
     "data": {
      "text/plain": [
       "16-element Vector{UInt8}:\n",
       " 0x54\n",
       " 0x68\n",
       " 0x69\n",
       " 0x73\n",
       " 0x20\n",
       " 0x69\n",
       " 0x73\n",
       " 0x20\n",
       " 0x61\n",
       " 0x20\n",
       " 0x73\n",
       " 0x65\n",
       " 0x63\n",
       " 0x72\n",
       " 0x65\n",
       " 0x74"
      ]
     },
     "execution_count": 27,
     "metadata": {},
     "output_type": "execute_result"
    }
   ],
   "source": [
    "dec = Decryptor(\"AES256\", key)\n",
    "deciphertext = decrypt(dec, ciphertext)"
   ]
  },
  {
   "cell_type": "code",
   "execution_count": 28,
   "metadata": {},
   "outputs": [
    {
     "data": {
      "text/plain": [
       "true"
      ]
     },
     "execution_count": 28,
     "metadata": {},
     "output_type": "execute_result"
    }
   ],
   "source": [
    "# Check to make sure the values are the same...\n",
    "Vector{UInt8}(plaintext) == deciphertext # no bytestring"
   ]
  },
  {
   "cell_type": "code",
   "execution_count": 30,
   "metadata": {},
   "outputs": [
    {
     "data": {
      "text/plain": [
       "false"
      ]
     },
     "execution_count": 30,
     "metadata": {},
     "output_type": "execute_result"
    }
   ],
   "source": [
    "Vector{UInt8}(\"This is the wrong secret\") == deciphertext # no bytestring"
   ]
  },
  {
   "cell_type": "code",
   "execution_count": 32,
   "metadata": {},
   "outputs": [
    {
     "data": {
      "text/plain": [
       "\"This is a secret\""
      ]
     },
     "execution_count": 32,
     "metadata": {},
     "output_type": "execute_result"
    }
   ],
   "source": [
    "String(deciphertext)"
   ]
  },
  {
   "cell_type": "markdown",
   "metadata": {},
   "source": [
    "Above we can see that after encryption and decryption, we still have the origional plain text value."
   ]
  },
  {
   "cell_type": "markdown",
   "metadata": {},
   "source": [
    "In the examples above, there were a bunch of restrictions on the cipher text and private key. Given those constraints, let's look at another tool which we can use to generate key pairs.  "
   ]
  },
  {
   "cell_type": "code",
   "execution_count": 33,
   "metadata": {},
   "outputs": [],
   "source": [
    "using ECC"
   ]
  },
  {
   "cell_type": "code",
   "execution_count": 34,
   "metadata": {},
   "outputs": [
    {
     "data": {
      "text/plain": [
       "PrivateKey(10, scep256k1 Point(𝑥,𝑦):\n",
       "a0434d9e47f3c86235477c7b1ae6ae5d3442d49b1943c2b752a68e2a47e247c7,\n",
       "893aba425419bc27a3b6c7e693a24c696f794c2ed877a1593cbee53b037368d7)"
      ]
     },
     "execution_count": 34,
     "metadata": {},
     "output_type": "execute_result"
    }
   ],
   "source": [
    "privateKey = ECC.PrivateKey(10)"
   ]
  },
  {
   "cell_type": "code",
   "execution_count": 40,
   "metadata": {},
   "outputs": [
    {
     "data": {
      "text/plain": [
       "scep256k1 signature(𝑟, 𝑠):\n",
       "b6a40dd053534268a5183de5207368e284e9ff7452144e08b7d3df2092be7e04,\n",
       "4515d3874d94387f084050d658f951b2696574a61ed4ba29b29bf4cef8a01b8e"
      ]
     },
     "execution_count": 40,
     "metadata": {},
     "output_type": "execute_result"
    }
   ],
   "source": [
    "signature = ECC.pksign(privateKey, 10)"
   ]
  },
  {
   "cell_type": "code",
   "execution_count": 41,
   "metadata": {},
   "outputs": [
    {
     "data": {
      "text/plain": [
       "true"
      ]
     },
     "execution_count": 41,
     "metadata": {},
     "output_type": "execute_result"
    }
   ],
   "source": [
    "ECC.verify(privateKey.𝑃, 10, signature)"
   ]
  },
  {
   "cell_type": "markdown",
   "metadata": {},
   "source": [
    "Let's break down quickly what we did in the above lines of code. First, we created a private key using some int to start (required simply due to the implementation). Then, we generated a signature and verified that the signature generated was correct for a specific number, 10."
   ]
  },
  {
   "cell_type": "code",
   "execution_count": 42,
   "metadata": {},
   "outputs": [
    {
     "data": {
      "text/plain": [
       "false"
      ]
     },
     "execution_count": 42,
     "metadata": {},
     "output_type": "execute_result"
    }
   ],
   "source": [
    "ECC.verify(privateKey.𝑃, 25, signature)"
   ]
  },
  {
   "cell_type": "markdown",
   "metadata": {},
   "source": [
    "Here, we can see that since we are using 25, the verify function now returns false. It is worth noting that the ECC package has a few limitations. One of which is that you can only use ints in these cases despite the docs saying that the functions accept generic data. Another limitation is that there is no ability to generate a public key, which is a core part of blockchain and how people securely interact on the internet. "
   ]
  },
  {
   "cell_type": "markdown",
   "metadata": {},
   "source": [
    "Hopefully this notebooks provides some insight into the state of some of the various Cryptographic functionalities available in Julia at the present moment. In the upcoming notebooks, we will dive into various other blockchain related ideas."
   ]
  }
 ],
 "metadata": {
  "kernelspec": {
   "display_name": "Julia 1.6.0",
   "language": "julia",
   "name": "julia-1.6"
  },
  "language_info": {
   "file_extension": ".jl",
   "mimetype": "application/julia",
   "name": "julia",
   "version": "1.6.0"
  }
 },
 "nbformat": 4,
 "nbformat_minor": 4
}
