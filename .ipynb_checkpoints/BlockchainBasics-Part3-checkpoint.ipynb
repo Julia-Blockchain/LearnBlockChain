{
 "cells": [
  {
   "cell_type": "markdown",
   "metadata": {},
   "source": [
    "# Web3 in Julia\n",
    "\n",
    "In this notebook, we will explore Web3.jl, which provides a wrapper for the popular Web3 ethereum framework. "
   ]
  },
  {
   "cell_type": "code",
   "execution_count": 1,
   "metadata": {},
   "outputs": [
    {
     "name": "stderr",
     "output_type": "stream",
     "text": [
      "┌ Info: Precompiling Web3 [0881af41-a624-557c-96ff-9a730c8d7287]\n",
      "└ @ Base loading.jl:1317\n",
      "\u001b[33m\u001b[1m┌ \u001b[22m\u001b[39m\u001b[33m\u001b[1mWarning: \u001b[22m\u001b[39mPackage Web3 does not have HTTP in its dependencies:\n",
      "\u001b[33m\u001b[1m│ \u001b[22m\u001b[39m- If you have Web3 checked out for development and have\n",
      "\u001b[33m\u001b[1m│ \u001b[22m\u001b[39m  added HTTP as a dependency but haven't updated your primary\n",
      "\u001b[33m\u001b[1m│ \u001b[22m\u001b[39m  environment's manifest file, try `Pkg.resolve()`.\n",
      "\u001b[33m\u001b[1m│ \u001b[22m\u001b[39m- Otherwise you may need to report an issue with Web3\n",
      "\u001b[33m\u001b[1m└ \u001b[22m\u001b[39mLoading HTTP into Web3 from project dependency, future warnings for Web3 are suppressed.\n"
     ]
    }
   ],
   "source": [
    "using Web3"
   ]
  },
  {
   "cell_type": "code",
   "execution_count": 16,
   "metadata": {},
   "outputs": [
    {
     "data": {
      "text/plain": [
       "Web3Connection(\"https://rinkeby.infura.io/v3/c36c6b41706346ebb30dd517847af054\")"
      ]
     },
     "execution_count": 16,
     "metadata": {},
     "output_type": "execute_result"
    }
   ],
   "source": [
    "connection = Web3Connection(\"https://rinkeby.infura.io/v3/c36c6b41706346ebb30dd517847af054\")"
   ]
  },
  {
   "cell_type": "code",
   "execution_count": 17,
   "metadata": {},
   "outputs": [
    {
     "data": {
      "text/plain": [
       "\"FactorialMemo.json\""
      ]
     },
     "execution_count": 17,
     "metadata": {},
     "output_type": "execute_result"
    }
   ],
   "source": [
    "abifile = reduce(joinpath, split(\"FactorialMemo.json\", \"/\"))"
   ]
  },
  {
   "cell_type": "code",
   "execution_count": 18,
   "metadata": {},
   "outputs": [
    {
     "data": {
      "text/plain": [
       "\"c36c6b41706346ebb30dd517847af054\""
      ]
     },
     "execution_count": 18,
     "metadata": {},
     "output_type": "execute_result"
    }
   ],
   "source": [
    "contractid = \"c36c6b41706346ebb30dd517847af054\""
   ]
  },
  {
   "cell_type": "code",
   "execution_count": 19,
   "metadata": {},
   "outputs": [
    {
     "data": {
      "text/plain": [
       "(Web3Connection(\"https://rinkeby.infura.io/v3/c36c6b41706346ebb30dd517847af054\"), \"FactorialMemo.json\")"
      ]
     },
     "execution_count": 19,
     "metadata": {},
     "output_type": "execute_result"
    }
   ],
   "source": [
    "connection, abifile"
   ]
  },
  {
   "cell_type": "code",
   "execution_count": 20,
   "metadata": {},
   "outputs": [
    {
     "ename": "LoadError",
     "evalue": "UndefVarError: ContractContext not defined",
     "output_type": "error",
     "traceback": [
      "UndefVarError: ContractContext not defined",
      "",
      "Stacktrace:",
      " [1] getproperty(x::Module, f::Symbol)",
      "   @ Base ./Base.jl:26",
      " [2] top-level scope",
      "   @ In[20]:1",
      " [3] eval",
      "   @ ./boot.jl:360 [inlined]",
      " [4] include_string(mapexpr::typeof(REPL.softscope), mod::Module, code::String, filename::String)",
      "   @ Base ./loading.jl:1094"
     ]
    }
   ],
   "source": [
    "context = Web3.ContractContext(connection, contractid, open(abifile))"
   ]
  },
  {
   "cell_type": "code",
   "execution_count": 21,
   "metadata": {},
   "outputs": [
    {
     "ename": "LoadError",
     "evalue": "HTTP.ExceptionRequest.StatusError(400, \"POST\", \"/v3/c36c6b41706346ebb30dd517847af054\", HTTP.Messages.Response:\n\"\"\"\nHTTP/1.1 400 Bad Request\r\nDate: Mon, 26 Apr 2021 03:27:40 GMT\r\nContent-Type: application/json\r\nContent-Length: 74\r\nConnection: keep-alive\r\nVary: Origin\r\n\r\n{\"jsonrpc\":\"2.0\",\"error\":{\"code\":-32600,\"message\":\"invalid json request\"}}\"\"\")",
     "output_type": "error",
     "traceback": [
      "HTTP.ExceptionRequest.StatusError(400, \"POST\", \"/v3/c36c6b41706346ebb30dd517847af054\", HTTP.Messages.Response:\n\"\"\"\nHTTP/1.1 400 Bad Request\r\nDate: Mon, 26 Apr 2021 03:27:40 GMT\r\nContent-Type: application/json\r\nContent-Length: 74\r\nConnection: keep-alive\r\nVary: Origin\r\n\r\n{\"jsonrpc\":\"2.0\",\"error\":{\"code\":-32600,\"message\":\"invalid json request\"}}\"\"\")",
      "",
      "Stacktrace:",
      "  [1] request(::Type{HTTP.ExceptionRequest.ExceptionLayer{HTTP.ConnectionRequest.ConnectionPoolLayer{HTTP.StreamRequest.StreamLayer{Union{}}}}}, ::URIs.URI, ::Vararg{Any, N} where N; kw::Base.Iterators.Pairs{Symbol, Union{Nothing, Bool}, Tuple{Symbol, Symbol}, NamedTuple{(:iofunction, :reached_redirect_limit), Tuple{Nothing, Bool}}})",
      "    @ HTTP.ExceptionRequest ~/.julia/packages/HTTP/cxgat/src/ExceptionRequest.jl:22",
      "  [2] (::Base.var\"#70#72\"{Base.var\"#70#71#73\"{ExponentialBackOff, HTTP.RetryRequest.var\"#2#3\"{Bool, HTTP.Messages.Request}, typeof(HTTP.request)}})(::Type, ::Vararg{Any, N} where N; kwargs::Base.Iterators.Pairs{Symbol, Union{Nothing, Bool}, Tuple{Symbol, Symbol}, NamedTuple{(:iofunction, :reached_redirect_limit), Tuple{Nothing, Bool}}})",
      "    @ Base ./error.jl:288",
      "  [3] #request#1",
      "    @ ~/.julia/packages/HTTP/cxgat/src/RetryRequest.jl:44 [inlined]",
      "  [4] request(::Type{HTTP.MessageRequest.MessageLayer{HTTP.RetryRequest.RetryLayer{HTTP.ExceptionRequest.ExceptionLayer{HTTP.ConnectionRequest.ConnectionPoolLayer{HTTP.StreamRequest.StreamLayer{Union{}}}}}}}, method::String, url::URIs.URI, headers::Vector{Pair{SubString{String}, SubString{String}}}, body::String; http_version::VersionNumber, target::String, parent::Nothing, iofunction::Nothing, kw::Base.Iterators.Pairs{Symbol, Bool, Tuple{Symbol}, NamedTuple{(:reached_redirect_limit,), Tuple{Bool}}})",
      "    @ HTTP.MessageRequest ~/.julia/packages/HTTP/cxgat/src/MessageRequest.jl:66",
      "  [5] request(::Type{HTTP.BasicAuthRequest.BasicAuthLayer{HTTP.MessageRequest.MessageLayer{HTTP.RetryRequest.RetryLayer{HTTP.ExceptionRequest.ExceptionLayer{HTTP.ConnectionRequest.ConnectionPoolLayer{HTTP.StreamRequest.StreamLayer{Union{}}}}}}}}, method::String, url::URIs.URI, headers::Vector{Pair{SubString{String}, SubString{String}}}, body::String; kw::Base.Iterators.Pairs{Symbol, Bool, Tuple{Symbol}, NamedTuple{(:reached_redirect_limit,), Tuple{Bool}}})",
      "    @ HTTP.BasicAuthRequest ~/.julia/packages/HTTP/cxgat/src/BasicAuthRequest.jl:28",
      "  [6] request(::Type{HTTP.RedirectRequest.RedirectLayer{HTTP.BasicAuthRequest.BasicAuthLayer{HTTP.MessageRequest.MessageLayer{HTTP.RetryRequest.RetryLayer{HTTP.ExceptionRequest.ExceptionLayer{HTTP.ConnectionRequest.ConnectionPoolLayer{HTTP.StreamRequest.StreamLayer{Union{}}}}}}}}}, method::String, url::URIs.URI, headers::Vector{Pair{SubString{String}, SubString{String}}}, body::String; redirect_limit::Int64, forwardheaders::Bool, kw::Base.Iterators.Pairs{Union{}, Union{}, Tuple{}, NamedTuple{(), Tuple{}}})",
      "    @ HTTP.RedirectRequest ~/.julia/packages/HTTP/cxgat/src/RedirectRequest.jl:24",
      "  [7] request(::Type{HTTP.RedirectRequest.RedirectLayer{HTTP.BasicAuthRequest.BasicAuthLayer{HTTP.MessageRequest.MessageLayer{HTTP.RetryRequest.RetryLayer{HTTP.ExceptionRequest.ExceptionLayer{HTTP.ConnectionRequest.ConnectionPoolLayer{HTTP.StreamRequest.StreamLayer{Union{}}}}}}}}}, method::String, url::URIs.URI, headers::Vector{Pair{SubString{String}, SubString{String}}}, body::String)",
      "    @ HTTP.RedirectRequest ~/.julia/packages/HTTP/cxgat/src/RedirectRequest.jl:21",
      "  [8] request(method::String, url::String, h::Vector{Any}, b::String; headers::Vector{Any}, body::String, query::Nothing, kw::Base.Iterators.Pairs{Union{}, Union{}, Tuple{}, NamedTuple{(), Tuple{}}})",
      "    @ HTTP ~/.julia/packages/HTTP/cxgat/src/HTTP.jl:315",
      "  [9] request",
      "    @ ~/.julia/packages/HTTP/cxgat/src/HTTP.jl:315 [inlined]",
      " [10] rawjsonget(::String, ::Symbol)",
      "    @ Web3 ~/.julia/packages/Web3/bZQyp/src/Web3.jl:100",
      " [11] jsonget(::String, ::Symbol)",
      "    @ Web3 ~/.julia/packages/Web3/bZQyp/src/Web3.jl:84",
      " [12] #1#2",
      "    @ ~/.julia/packages/Web3/bZQyp/src/Web3.jl:119 [inlined]",
      " [13] (::Web3.var\"#1#3\"{Web3.var\"#1#2#4\"{Symbol, Web3.var\"#5#6\"}})(::Web3Connection)",
      "    @ Web3 ~/.julia/packages/Web3/bZQyp/src/Web3.jl:119",
      " [14] top-level scope",
      "    @ In[21]:1",
      " [15] eval",
      "    @ ./boot.jl:360 [inlined]",
      " [16] include_string(mapexpr::typeof(REPL.softscope), mod::Module, code::String, filename::String)",
      "    @ Base ./loading.jl:1094"
     ]
    }
   ],
   "source": [
    "println(\"clientversion: \" * clientversion(connection))"
   ]
  },
  {
   "cell_type": "code",
   "execution_count": 22,
   "metadata": {},
   "outputs": [
    {
     "ename": "LoadError",
     "evalue": "UndefVarError: net not defined",
     "output_type": "error",
     "traceback": [
      "UndefVarError: net not defined",
      "",
      "Stacktrace:",
      " [1] top-level scope",
      "   @ In[22]:1",
      " [2] eval",
      "   @ ./boot.jl:360 [inlined]",
      " [3] include_string(mapexpr::typeof(REPL.softscope), mod::Module, code::String, filename::String)",
      "   @ Base ./loading.jl:1094"
     ]
    }
   ],
   "source": [
    "net.version(connection)"
   ]
  },
  {
   "cell_type": "code",
   "execution_count": 23,
   "metadata": {},
   "outputs": [
    {
     "ename": "LoadError",
     "evalue": "type NamedTuple has no field protocolversion",
     "output_type": "error",
     "traceback": [
      "type NamedTuple has no field protocolversion",
      "",
      "Stacktrace:",
      " [1] getproperty(x::NamedTuple{(:gettransactioncount, :gettransactionbyhash), Tuple{Web3.var\"#1#3\"{Web3.var\"#1#2#4\"{Symbol, Web3.var\"#7#9\"}}, Web3.var\"#1#3\"{Web3.var\"#1#2#4\"{Symbol, Web3.var\"#8#10\"}}}}, f::Symbol)",
      "   @ Base ./Base.jl:33",
      " [2] top-level scope",
      "   @ In[23]:1",
      " [3] eval",
      "   @ ./boot.jl:360 [inlined]",
      " [4] include_string(mapexpr::typeof(REPL.softscope), mod::Module, code::String, filename::String)",
      "   @ Base ./loading.jl:1094"
     ]
    }
   ],
   "source": [
    "eth.protocolversion(connection)"
   ]
  },
  {
   "cell_type": "markdown",
   "metadata": {},
   "source": [
    "As you might be able to tell from the code above, the current Julia implimentation of Web3 is lacking functionality and completeness. It is not currently possible to use this package and connect to the ethereum network. See here: https://github.com/lambda-mechanics/Web3.jl/issues/7 and https://github.com/lambda-mechanics/Web3.jl/issues/8 for more follow up details."
   ]
  },
  {
   "cell_type": "code",
   "execution_count": null,
   "metadata": {},
   "outputs": [],
   "source": []
  }
 ],
 "metadata": {
  "kernelspec": {
   "display_name": "Julia 1.6.0",
   "language": "julia",
   "name": "julia-1.6"
  },
  "language_info": {
   "file_extension": ".jl",
   "mimetype": "application/julia",
   "name": "julia",
   "version": "1.6.0"
  }
 },
 "nbformat": 4,
 "nbformat_minor": 4
}
