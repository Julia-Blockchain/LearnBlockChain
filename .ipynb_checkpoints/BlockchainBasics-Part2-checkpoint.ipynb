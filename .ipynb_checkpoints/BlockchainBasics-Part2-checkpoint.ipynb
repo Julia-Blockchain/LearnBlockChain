{
 "cells": [
  {
   "cell_type": "markdown",
   "metadata": {},
   "source": [
    "# Learn the basics of Blockchain with Julia\n",
    "## Part 2 - Basic Blockchain simulation"
   ]
  },
  {
   "cell_type": "markdown",
   "metadata": {},
   "source": [
    "So far we have explored hashing functions, private keys, signature verification, and other cryptographic functionalities. These are all important ideas that are not specific to blochchain yet play a pivotal role in the ecosystem. Next up, we will be looking at a really simple blockchain simulation in order to get a better idea of how we could build a blockchain in Julia."
   ]
  },
  {
   "cell_type": "code",
   "execution_count": 1,
   "metadata": {},
   "outputs": [],
   "source": [
    "# Code inspired by: https://gist.github.com/TestSubjector/efae35941009dd5dc33aa639ff439b3f#file-blockchain-jl\n",
    "using SHA\n",
    "using Dates"
   ]
  },
  {
   "cell_type": "code",
   "execution_count": 2,
   "metadata": {},
   "outputs": [
    {
     "data": {
      "text/plain": [
       "Block"
      ]
     },
     "execution_count": 2,
     "metadata": {},
     "output_type": "execute_result"
    }
   ],
   "source": [
    "\"\"\"\n",
    "An individual block structure\n",
    "\"\"\"\n",
    "struct Block\n",
    "    index::Int\n",
    "    timestamp::DateTime\n",
    "    data::String\n",
    "    previous_hash::String # length 64 string encoding of hexadecimal number\n",
    "    hash::String\n",
    "    nonce::Int\n",
    "    \n",
    "    # In a real blockchain block, we would want some previous transactions in here rather than just generic data.\n",
    "    \n",
    "    \"\"\"\n",
    "    The constructor which will also create hash for the block.\n",
    "    It will use 256 bit encryption for the blockchain's security needs.\n",
    "    \"\"\"\n",
    "    function Block(index, timestamp, data, previous_hash, nonce)\n",
    "        hash = sha2_256(string(index, timestamp, data, previous_hash))\n",
    "        nonce += 1\n",
    "        new(index, timestamp, data, previous_hash, bytes2hex(hash), nonce)\n",
    "    end\n",
    "end"
   ]
  },
  {
   "cell_type": "code",
   "execution_count": 3,
   "metadata": {},
   "outputs": [
    {
     "data": {
      "text/plain": [
       "addBlock"
      ]
     },
     "execution_count": 3,
     "metadata": {},
     "output_type": "execute_result"
    }
   ],
   "source": [
    "\"\"\"\n",
    "Add another block to the chain.\n",
    "You can't have a blockchain with just one block after all.\n",
    "\"\"\"\n",
    "function addBlock(tail_block::Block)\n",
    "    new_index = tail_block.index + 1\n",
    "    return Block(new_index, Dates.now(), string(\"This is block\", new_index), tail_block.hash, tail_block.nonce)\n",
    "end"
   ]
  },
  {
   "cell_type": "code",
   "execution_count": 4,
   "metadata": {},
   "outputs": [
    {
     "data": {
      "text/plain": [
       "1-element Vector{Block}:\n",
       " Block(0, DateTime(\"2021-04-25T11:05:23.802\"), \"Genesis Block\", \"0\", \"9451c7fb9f23c22e29c003890f79b8779736b771f5b988bad938c3c488a7c42c\", 1)"
      ]
     },
     "execution_count": 4,
     "metadata": {},
     "output_type": "execute_result"
    }
   ],
   "source": [
    "# All blockchains have a \"Genesis Block\" or the block that kicks off that specific Blockchain.\n",
    "Blockchain = [Block(0, Dates.now(), \"Genesis Block\", \"0\", 0)]"
   ]
  },
  {
   "cell_type": "code",
   "execution_count": 5,
   "metadata": {},
   "outputs": [
    {
     "data": {
      "text/plain": [
       "20"
      ]
     },
     "execution_count": 5,
     "metadata": {},
     "output_type": "execute_result"
    }
   ],
   "source": [
    "# Now we will configure the max size of the blockchain\n",
    "Blockchain_limit = 20"
   ]
  },
  {
   "cell_type": "code",
   "execution_count": 6,
   "metadata": {
    "scrolled": true
   },
   "outputs": [
    {
     "name": "stdout",
     "output_type": "stream",
     "text": [
      "Block : 2\n",
      "Hash :1bbb565fee80ec13da5205ad478f38d93a34e36c965bd0d55e14645da92824cc\n",
      "Block : 3\n",
      "Hash :dae41ce7f2f8377efb5f809e1f612632a907f53f7b120f2068e5990b10754fb8\n",
      "Block : 4\n",
      "Hash :ff342c44cb49e6bf982909d6618da930c48844d1bdb2ee72c98510d5c5889cbe\n",
      "Block : 5\n",
      "Hash :a7a42a36d3cba3478b4b949c0bfa5768ec5bb834b39ce43a9b72938b68f69da3\n",
      "Block : 6\n",
      "Hash :1c9cc0f852ed2ab9852bee12cbbff6549a508d77a9f9e0efbc0f870acdbab5de\n",
      "Block : 7\n",
      "Hash :3507d9cd3c9be56fb68d6899ecdf871cb45392cf8c9b9fb670cbcfa4a9aa33bf\n",
      "Block : 8\n",
      "Hash :f3cc1fafecc4ad2ade661097d6ec930c208c14f2022842f189c1df63a3673e56\n",
      "Block : 9\n",
      "Hash :54d3af3e593816aac02442e08a32952dcfe04049d8b508015a1e2f3e62b163ef\n",
      "Block : 10\n",
      "Hash :8233cdcb4ae98f66ace7d0eb4353278cf081b21fb5587412db26e3765d22d72e\n",
      "Block : 11\n",
      "Hash :f4bc9145cf39a97e0346a806270b88603236d3d54fdae3726960f6bddd5804eb\n",
      "Block : 12\n",
      "Hash :a85ff779f58bfd72ac3b9f3f25a31bd8417f7250b5f24e59245a67985847a751\n",
      "Block : 13\n",
      "Hash :28bdea798740233f3f03c2b694d11ffb7172089636105f4c142ffa6b3960ebdc\n",
      "Block : 14\n",
      "Hash :b1d2a335a58ac2a5a218472deebd27f67b32be101a6dca7716185ec4313e6adc\n",
      "Block : 15\n",
      "Hash :2e71aedbc36a99913caccffdf3e545986b40eb529a991263ad5340e414f02063\n",
      "Block : 16\n",
      "Hash :18e0de6384530abb5141fbbb035ced027f131b831cbab357a320d909830281ee\n",
      "Block : 17\n",
      "Hash :bedf705ec62ff07777e8c5fe8cabf743653814090f4632d3757de6a1a00509d9\n",
      "Block : 18\n",
      "Hash :ebb8245f7ac3eb236bbb809c7f4d924a57bb63fdc2b5ff18f5be9853700b333c\n",
      "Block : 19\n",
      "Hash :9195e90df70e065410dbd7660d13f6c36ff9bb05f172273018ef412f6abd9163\n",
      "Block : 20\n",
      "Hash :b5d967348628e2e6cf332bc4e1eb6bba5b721c0e9c77083dd6cf142e3f815b13\n",
      "Block : 21\n",
      "Hash :8ce641e22056986d92b2bde43e54851930076977ab0686dc2e2d5b46b74eeb39\n"
     ]
    }
   ],
   "source": [
    "function runBlockSimulation()\n",
    "    for tail = 1:Blockchain_limit\n",
    "        # Link the new block to the chain\n",
    "        append!(Blockchain, [addBlock(Blockchain[tail])])\n",
    "\n",
    "        # The details of the block\n",
    "        println(\"Block : $(tail+1)\")\n",
    "        println(\"Hash :\", Blockchain[tail+1].hash)\n",
    "    end\n",
    "end\n",
    "runBlockSimulation()"
   ]
  },
  {
   "cell_type": "code",
   "execution_count": 7,
   "metadata": {},
   "outputs": [
    {
     "data": {
      "text/plain": [
       "Block(19, DateTime(\"2021-04-25T11:05:25.485\"), \"This is block19\", \"9195e90df70e065410dbd7660d13f6c36ff9bb05f172273018ef412f6abd9163\", \"b5d967348628e2e6cf332bc4e1eb6bba5b721c0e9c77083dd6cf142e3f815b13\", 20)"
      ]
     },
     "execution_count": 7,
     "metadata": {},
     "output_type": "execute_result"
    }
   ],
   "source": [
    "Blockchain[20]"
   ]
  },
  {
   "cell_type": "markdown",
   "metadata": {},
   "source": [
    "Let's note a few things quickly, first, this blockchain is not setup with any notion of transactions, rewards, etc. which are all key ideas in the context of blockchain development. Part of the reason for this is that we have no setup currently to handle accounts or the like. This would be required for us to have a real blockchain but we will graze over this fact for now and look at how we can get this example closer to where we want it starting by adding a transaction field to the Block defintion. "
   ]
  },
  {
   "cell_type": "code",
   "execution_count": 34,
   "metadata": {},
   "outputs": [
    {
     "data": {
      "text/plain": [
       "hashTransactions (generic function with 2 methods)"
      ]
     },
     "execution_count": 34,
     "metadata": {},
     "output_type": "execute_result"
    }
   ],
   "source": [
    "# We would techncially want to explicitly type this to only work with arrays of newBlocks\n",
    "function hashTransactions(transactions)\n",
    "    \n",
    "    transactions_hash_str = \"\"\n",
    "    \n",
    "    # Concatenate all the hash values together\n",
    "    for transaction in transactions\n",
    "        transactions_hash_str *= transaction.hash\n",
    "    end\n",
    "    print(\"Transactions concatenated\")\n",
    "    \n",
    "    # Return the Concatenated hash values\n",
    "    return(bytes2hex(sha2_256(transactions_hash_str)))\n",
    "end"
   ]
  },
  {
   "cell_type": "code",
   "execution_count": 9,
   "metadata": {},
   "outputs": [
    {
     "data": {
      "text/plain": [
       "newBlock"
      ]
     },
     "execution_count": 9,
     "metadata": {},
     "output_type": "execute_result"
    }
   ],
   "source": [
    "\"\"\"\n",
    "An individual block structure\n",
    "\"\"\"\n",
    "mutable struct newBlock\n",
    "    index::Int\n",
    "    timestamp::DateTime\n",
    "    data::String\n",
    "    previous_hash::String # length 64 string encoding of hexadecimal number\n",
    "    hash::String\n",
    "    nonce::Int\n",
    "    transactions::Array{newBlock} # Can be none or contain N blocks\n",
    "    transactions_hash::String\n",
    "    \n",
    "    # In a real blockchain block, we would want some previous transactions in here rather than just generic data.\n",
    "    \n",
    "    \"\"\"\n",
    "    The constructor which will also create hash for the block.\n",
    "    It will use 256 bit encryption for the blockchain's security needs.\n",
    "    \"\"\"\n",
    "    function newBlock(index, timestamp, data, previous_hash, nonce, transactions = [])\n",
    "        hash = sha2_256(string(index, timestamp, data, previous_hash))\n",
    "        nonce += 1\n",
    "        \n",
    "        transactions_hash = \"\"\n",
    "        if transactions != []\n",
    "            transactions_hash = hashTransactions(transactions)\n",
    "        end\n",
    "        new(index, timestamp, data, previous_hash, bytes2hex(hash), nonce, transactions, transactions_hash)\n",
    "    end\n",
    "end"
   ]
  },
  {
   "cell_type": "code",
   "execution_count": 10,
   "metadata": {},
   "outputs": [
    {
     "data": {
      "text/plain": [
       "addNewBlock"
      ]
     },
     "execution_count": 10,
     "metadata": {},
     "output_type": "execute_result"
    }
   ],
   "source": [
    "\"\"\"\n",
    "Add another block to the chain.\n",
    "You can't have a blockchain with just one block after all.\n",
    "\"\"\"\n",
    "function addNewBlock(tail_block::newBlock)\n",
    "    new_index = tail_block.index + 1\n",
    "    return newBlock(new_index, Dates.now(), string(\"This is new block\", new_index), tail_block.hash, tail_block.nonce)\n",
    "end"
   ]
  },
  {
   "cell_type": "code",
   "execution_count": 11,
   "metadata": {},
   "outputs": [
    {
     "data": {
      "text/plain": [
       "1-element Vector{newBlock}:\n",
       " newBlock(0, DateTime(\"2021-04-25T11:05:26.115\"), \"New Genesis Block\", \"0\", \"b3a7c99e9d33c2099f8b1b26fff377f6cdb53155b96f8c968d2bc3905ccec073\", 1, newBlock[], \"\")"
      ]
     },
     "execution_count": 11,
     "metadata": {},
     "output_type": "execute_result"
    }
   ],
   "source": [
    "newBlockchain = [newBlock(0, Dates.now(), \"New Genesis Block\", \"0\", 0)]"
   ]
  },
  {
   "cell_type": "code",
   "execution_count": 12,
   "metadata": {},
   "outputs": [
    {
     "name": "stdout",
     "output_type": "stream",
     "text": [
      "Block : 2\n",
      "Hash :0f1abcec75c0da6786d92ef526014b6fa336891e6464a09511e4330d7c70a5c7\n",
      "Block : 3\n",
      "Hash :01cd8e708f49c985178b2ec9d7b33656b18615d67b285133c4ecffd09fa09178\n",
      "Block : 4\n",
      "Hash :230459e174ceacb22e91acbfe779c6a8b0e772f39743b503ff99558c4d21e6c6\n",
      "Block : 5\n",
      "Hash :ad673797192e3eef3317facf2890892bddafb1d823efa76f533ef512303ab23a\n",
      "Block : 6\n",
      "Hash :5e18d5719a3967ff73895ea95294f516419cdb6827b2a183b02b2a7748a8e7d7\n",
      "Block : 7\n",
      "Hash :05cee313b671fa9a433f34a49c72b4892b1ee7afc0e62b945998e29cb552f19b\n",
      "Block : 8\n",
      "Hash :d99c19a525aa294e4d72032c100e7744e7ac8691ae8c40e0e7beb14a6e696a01\n",
      "Block : 9\n",
      "Hash :4044bae3ca0802ee04d78712cb7111174add2b1814bb201ebd8c3436d6155140\n",
      "Block : 10\n",
      "Hash :6d25a1882b5e25440bcbc03710d77d8bcdfccbdc23aba4bd9bf37da365e83a3d\n",
      "Block : 11\n",
      "Hash :e4029eae6a421b5a96d7a057b1312abcceefe67a40eaffe69a61142954a7ab00\n",
      "Block : 12\n",
      "Hash :ee25228a44d239c2763c75f7c5b91a6bd7926d2f55cf804cde622ec1c8a8eacf\n",
      "Block : 13\n",
      "Hash :63bfd050fabd98b2c84039f2ec5cdd782082a7b419468bb98ff5f5cc58a63987\n",
      "Block : 14\n",
      "Hash :d03a64aa126fa435111d7063c73d029595550d2cc0929524cfeaaa50ccc768a2\n",
      "Block : 15\n",
      "Hash :187f1cb4071c6aafe9faaa1f4a8fafaa865508c00ab97cbef8d79863ae25ad25\n",
      "Block : 16\n",
      "Hash :813038ee8d958aacf34c866e3d95817a42bfb3b4beb2a4c493e3a8433e35821c\n",
      "Block : 17\n",
      "Hash :c0ddbe0e4a9c4aedf06cf5a72efb08bf830b541002f648da3e166dd05a756e81\n",
      "Block : 18\n",
      "Hash :1c4ba7f0c6240052bf0ba247914c9eb6861d225220306e09db16dad6e4d00ff0\n",
      "Block : 19\n",
      "Hash :a7b552cdedaf8f0b9f133223f8c5fb0bca8fdce422eee246525141dc046d407d\n",
      "Block : 20\n",
      "Hash :2a4e94b35603f2060fd7e8d58a9f9e9749052982f447e63029b4dc10a42e232a\n",
      "Block : 21\n",
      "Hash :7386faf4601134da108efae07a133f78529fe838ec4135be4086bcb71ac1af75\n"
     ]
    }
   ],
   "source": [
    "function runNewBlockSimulation()\n",
    "    for tail = 1:Blockchain_limit\n",
    "        # Link the new block to the chain\n",
    "        append!(newBlockchain, [addNewBlock(newBlockchain[tail])])\n",
    "\n",
    "        # The details of the new block\n",
    "        println(\"Block : $(tail+1)\")\n",
    "        println(\"Hash :\", newBlockchain[tail+1].hash)\n",
    "    end\n",
    "end\n",
    "runNewBlockSimulation()"
   ]
  },
  {
   "cell_type": "code",
   "execution_count": 14,
   "metadata": {},
   "outputs": [
    {
     "data": {
      "text/plain": [
       "1-element Vector{newBlock}:\n",
       " newBlock(19, DateTime(\"2021-04-25T11:05:26.925\"), \"This is new block19\", \"a7b552cdedaf8f0b9f133223f8c5fb0bca8fdce422eee246525141dc046d407d\", \"2a4e94b35603f2060fd7e8d58a9f9e9749052982f447e63029b4dc10a42e232a\", 20, newBlock[], \"\")"
      ]
     },
     "execution_count": 14,
     "metadata": {},
     "output_type": "execute_result"
    }
   ],
   "source": [
    "newBlockchain[21].transactions = [newBlockchain[20]]"
   ]
  },
  {
   "cell_type": "code",
   "execution_count": 16,
   "metadata": {},
   "outputs": [
    {
     "data": {
      "text/plain": [
       "\"\""
      ]
     },
     "execution_count": 16,
     "metadata": {},
     "output_type": "execute_result"
    }
   ],
   "source": [
    "newBlockchain[21].transactions_hash"
   ]
  },
  {
   "cell_type": "markdown",
   "metadata": {},
   "source": [
    "On first glance, it looks like something here is off given we have transactions in the block but no transaction hash. This is a built in safety mechanism to ensure that transcations are not added to the block after the fact. The block requires that the transactions are passed in when it is created so that a hash can be generated. Let's see what that looks like below..."
   ]
  },
  {
   "cell_type": "code",
   "execution_count": 35,
   "metadata": {},
   "outputs": [
    {
     "name": "stdout",
     "output_type": "stream",
     "text": [
      "Transactions concatenated"
     ]
    },
    {
     "data": {
      "text/plain": [
       "newBlock(0, DateTime(\"2021-04-25T11:25:55.476\"), \"A Random Block\", \"0\", \"6cc6787fbcfe9bd9361dc8a2b1bfe1eb6664a5db0c4de73ca8ed6d7340ca14e4\", 1, newBlock[newBlock(9, DateTime(\"2021-04-25T11:05:26.924\"), \"This is new block9\", \"4044bae3ca0802ee04d78712cb7111174add2b1814bb201ebd8c3436d6155140\", \"6d25a1882b5e25440bcbc03710d77d8bcdfccbdc23aba4bd9bf37da365e83a3d\", 10, newBlock[], \"\")], \"6e902e927414707275a7ced026a05dcc13ecde029861594d95c23e3b8744351d\")"
      ]
     },
     "execution_count": 35,
     "metadata": {},
     "output_type": "execute_result"
    }
   ],
   "source": [
    "testBlock = newBlock(0, Dates.now(), \"A Random Block\", \"0\", 0, [newBlockchain[10]])"
   ]
  },
  {
   "cell_type": "markdown",
   "metadata": {},
   "source": [
    "We now have the idea of transactions being encapsulted into the block itself. "
   ]
  },
  {
   "cell_type": "code",
   "execution_count": 36,
   "metadata": {},
   "outputs": [
    {
     "name": "stdout",
     "output_type": "stream",
     "text": [
      "Transactions concatenated"
     ]
    },
    {
     "data": {
      "text/plain": [
       "newBlock(0, DateTime(\"2021-04-25T11:25:58.605\"), \"A Random Block\", \"0\", \"9e541d9cef08c3b8c93ae910bab15d3095d28b66629a226e4019bdf7f8d1c762\", 1, newBlock[newBlock(9, DateTime(\"2021-04-25T11:05:26.924\"), \"This is new block9\", \"4044bae3ca0802ee04d78712cb7111174add2b1814bb201ebd8c3436d6155140\", \"6d25a1882b5e25440bcbc03710d77d8bcdfccbdc23aba4bd9bf37da365e83a3d\", 10, newBlock[], \"\"), newBlock(10, DateTime(\"2021-04-25T11:05:26.924\"), \"This is new block10\", \"6d25a1882b5e25440bcbc03710d77d8bcdfccbdc23aba4bd9bf37da365e83a3d\", \"e4029eae6a421b5a96d7a057b1312abcceefe67a40eaffe69a61142954a7ab00\", 11, newBlock[], \"\")], \"57015387487f0df84112715f0af890d4689711802a3f251aa6546bcd05b4ff6f\")"
      ]
     },
     "execution_count": 36,
     "metadata": {},
     "output_type": "execute_result"
    }
   ],
   "source": [
    "testBlock = newBlock(0, Dates.now(), \"A Random Block\", \"0\", 0, [newBlockchain[10], newBlockchain[11]])"
   ]
  },
  {
   "cell_type": "code",
   "execution_count": 38,
   "metadata": {},
   "outputs": [
    {
     "data": {
      "text/plain": [
       "\"57015387487f0df84112715f0af890d4689711802a3f251aa6546bcd05b4ff6f\""
      ]
     },
     "execution_count": 38,
     "metadata": {},
     "output_type": "execute_result"
    }
   ],
   "source": [
    "testBlock.transactions_hash"
   ]
  },
  {
   "cell_type": "markdown",
   "metadata": {},
   "source": [
    "While not fully functional by any means, this simulation gives us a glipse into what would be required for a functional blockchain to work in Julia. Some key points missing: a fully functional transaction (up to this point we just used basic blocks as transactions despite that not being correct), account registry (should be easy enough to create in Julia), and more. The real question mark still at this point related to all of this is generating public keys. This is a critial part of the account registry and something that would need to be implimented."
   ]
  },
  {
   "cell_type": "code",
   "execution_count": null,
   "metadata": {},
   "outputs": [],
   "source": []
  }
 ],
 "metadata": {
  "kernelspec": {
   "display_name": "Julia 1.6.0",
   "language": "julia",
   "name": "julia-1.6"
  },
  "language_info": {
   "file_extension": ".jl",
   "mimetype": "application/julia",
   "name": "julia",
   "version": "1.6.0"
  }
 },
 "nbformat": 4,
 "nbformat_minor": 4
}
