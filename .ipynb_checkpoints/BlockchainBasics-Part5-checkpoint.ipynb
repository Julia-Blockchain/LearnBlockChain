{
 "cells": [
  {
   "cell_type": "markdown",
   "metadata": {},
   "source": [
    "# Blockchain Account Registry\n",
    "\n",
    "Now that we have explored the idea of creating a wallet for each individual, the next step is to create a system to manage the accounts. This is an important idea in blockchain for a few reasons, one of which being you need to keep track of how much of the currency everyone on the network has, otherwise, I could show up with 100 more of the coins than you would expect and no one could say anything. In real world terms, imagine that the government knew where each and every dollar was in the world. So if you tried to use a fake 100 dollar bill, they would know right away since your account did not show that dollar. \n",
    "\n",
    "In the example of the government, we would not likely want this given but it would also not be practically possible given the nature of physical currency. But because blockchains only operate in the digital realm, we are able to enforce this anti-fraud and pseudo centralized idea of an account registry."
   ]
  },
  {
   "cell_type": "code",
   "execution_count": 1,
   "metadata": {},
   "outputs": [
    {
     "data": {
      "text/plain": [
       "verify_signature (generic function with 1 method)"
      ]
     },
     "execution_count": 1,
     "metadata": {},
     "output_type": "execute_result"
    }
   ],
   "source": [
    "using Random\n",
    "using ECC\n",
    "using Nettle\n",
    "using SHA\n",
    "\n",
    "# Bring over the code from part 4.\n",
    "struct Wallet\n",
    "    seed::String\n",
    "    secexp::Int # Note that this is not being used correctly right now.\n",
    "    private_key::PrivateKey\n",
    "    public_key::String\n",
    "    \n",
    "    function Wallet(seed_hex=nothing)\n",
    "        if seed_hex != nothing\n",
    "            seed = seed_hex\n",
    "        else\n",
    "            seed = randstring(32)\n",
    "        end\n",
    "        \n",
    "        # Given the ECC package does not provide a public key function, we will make a simple one\n",
    "        # Note that in this case, we updated the input of the sha256 function to be the random string we generated.\n",
    "        new(seed, 1, ECC.PrivateKey(10), bytes2hex(sha256(seed)))\n",
    "    end\n",
    "end\n",
    "\n",
    "# Because of the current limitations of the ECC package, we can only encrypt numbers and not other datatypes.\n",
    "function sign_message(wallet::Wallet, message::Int)\n",
    "    signature = ECC.pksign(wallet.private_key, message)\n",
    "    return(signature)\n",
    "end\n",
    "\n",
    "function verify_signature(wallet::Wallet, signature::Signature, message::Int)\n",
    "    verified = ECC.verify(wallet.private_key.𝑃, message, signature)    \n",
    "    return(verified)\n",
    "end"
   ]
  },
  {
   "cell_type": "code",
   "execution_count": 23,
   "metadata": {},
   "outputs": [],
   "source": [
    "mutable struct Account_Registry\n",
    "    accounts::Dict\n",
    "    \"\"\"\n",
    "    dictionary of accounts; key is hex string representation of public_key; value is dictionary containing:\n",
    "            name : string\n",
    "                arbitrary pseudonym of wallet holder\n",
    "            balance : int\n",
    "                current balance\n",
    "            wallet : Wallet\n",
    "                wallet of account holder\n",
    "    \"\"\"\n",
    "    \n",
    "    # Constructor\n",
    "    function Account_Registry(new_accounts=[])\n",
    "        accounts = Dict()\n",
    "        \n",
    "        # Loop through the passed in accounts\n",
    "        for account in new_accounts\n",
    "            pseudonym, wallet = account\n",
    "            \n",
    "            public_key = wallet.public_key\n",
    "            \n",
    "            if !(public_key in keys(accounts))\n",
    "                accounts[public_key] = Dict(\n",
    "                    \"name\" => pseudonym,\n",
    "                    \"balance\" => 0,\n",
    "                    \"wallet\" => wallet\n",
    "                )\n",
    "            else\n",
    "                print(\"Account $(public_key) already registered\")\n",
    "            end\n",
    "        end\n",
    "        \n",
    "        # When you use an inner constructor in Julia, you have to explicitly create the object with the new keyword.\n",
    "        new(accounts)\n",
    "    end\n",
    "end"
   ]
  },
  {
   "cell_type": "code",
   "execution_count": 24,
   "metadata": {},
   "outputs": [
    {
     "data": {
      "text/plain": [
       "Account_Registry(Dict{Any, Any}(\"848f4563167b5e4987189bbba7679809f11888fc202edcb505521b452f3955cc\" => Dict{String, Any}(\"name\" => \"bob\", \"balance\" => 0, \"wallet\" => Wallet(\"NY25PQWT1R1fMg7Ra3cvmLv6P2NYpohF\", 1, PrivateKey(10, scep256k1 Point(𝑥,𝑦):\n",
       "a0434d9e47f3c86235477c7b1ae6ae5d3442d49b1943c2b752a68e2a47e247c7,\n",
       "893aba425419bc27a3b6c7e693a24c696f794c2ed877a1593cbee53b037368d7), \"848f4563167b5e4987189bbba7679809f11888fc202edcb505521b452f3955cc\")), \"9680e264045b1ec3909b9ae2ea35f36bb57c70a11a9ae0f21cc486af448cfc13\" => Dict{String, Any}(\"name\" => \"alice\", \"balance\" => 0, \"wallet\" => Wallet(\"rMzlmJoU6lGV7GyLjpAxlgcOg1mW358R\", 1, PrivateKey(10, scep256k1 Point(𝑥,𝑦):\n",
       "a0434d9e47f3c86235477c7b1ae6ae5d3442d49b1943c2b752a68e2a47e247c7,\n",
       "893aba425419bc27a3b6c7e693a24c696f794c2ed877a1593cbee53b037368d7), \"9680e264045b1ec3909b9ae2ea35f36bb57c70a11a9ae0f21cc486af448cfc13\")), \"8df6ee9190d6b823deeb962a4f2030b48bbd7fccd82b11a68f42b1bb5e25f114\" => Dict{String, Any}(\"name\" => \"carol\", \"balance\" => 0, \"wallet\" => Wallet(\"pc2W7Vz59U1yl6xBiyZaiM3j7qOJ30U5\", 1, PrivateKey(10, scep256k1 Point(𝑥,𝑦):\n",
       "a0434d9e47f3c86235477c7b1ae6ae5d3442d49b1943c2b752a68e2a47e247c7,\n",
       "893aba425419bc27a3b6c7e693a24c696f794c2ed877a1593cbee53b037368d7), \"8df6ee9190d6b823deeb962a4f2030b48bbd7fccd82b11a68f42b1bb5e25f114\"))))"
      ]
     },
     "execution_count": 24,
     "metadata": {},
     "output_type": "execute_result"
    }
   ],
   "source": [
    "aliceWallet = Wallet()\n",
    "bobWallet = Wallet()\n",
    "carolWallet = Wallet()\n",
    "\n",
    "account_registry = Account_Registry([(\"alice\", aliceWallet), (\"bob\", bobWallet), (\"carol\", carolWallet)])"
   ]
  },
  {
   "cell_type": "code",
   "execution_count": 32,
   "metadata": {},
   "outputs": [
    {
     "data": {
      "text/plain": [
       "register_account (generic function with 2 methods)"
      ]
     },
     "execution_count": 32,
     "metadata": {},
     "output_type": "execute_result"
    }
   ],
   "source": [
    "function register_account(account_registry::Account_Registry, new_accounts=[])\n",
    "        \n",
    "        # Loop through the passed in accounts\n",
    "        for account in new_accounts\n",
    "            pseudonym, wallet = account\n",
    "            \n",
    "            public_key = wallet.public_key\n",
    "            \n",
    "            if !(public_key in keys(account_registry.accounts))\n",
    "                 account_registry.accounts[public_key] = Dict(\n",
    "                    \"name\" => pseudonym,\n",
    "                    \"balance\" => 0,\n",
    "                    \"wallet\" => wallet\n",
    "                )\n",
    "            else\n",
    "                print(\"Account $(public_key) already registered\")\n",
    "            end\n",
    "        end\n",
    "    end"
   ]
  },
  {
   "cell_type": "code",
   "execution_count": 33,
   "metadata": {},
   "outputs": [],
   "source": [
    "loganWallet = Wallet()\n",
    "register_account(account_registry, [(\"logan\", loganWallet)])"
   ]
  },
  {
   "cell_type": "code",
   "execution_count": 34,
   "metadata": {},
   "outputs": [
    {
     "data": {
      "text/plain": [
       "Account_Registry(Dict{Any, Any}(\"848f4563167b5e4987189bbba7679809f11888fc202edcb505521b452f3955cc\" => Dict{String, Any}(\"name\" => \"bob\", \"balance\" => 0, \"wallet\" => Wallet(\"NY25PQWT1R1fMg7Ra3cvmLv6P2NYpohF\", 1, PrivateKey(10, scep256k1 Point(𝑥,𝑦):\n",
       "a0434d9e47f3c86235477c7b1ae6ae5d3442d49b1943c2b752a68e2a47e247c7,\n",
       "893aba425419bc27a3b6c7e693a24c696f794c2ed877a1593cbee53b037368d7), \"848f4563167b5e4987189bbba7679809f11888fc202edcb505521b452f3955cc\")), \"9ac3259a129d93bc55f16b7db3b446cbff0710f93aeb8e9ce31d1db40a2d59a9\" => Dict{String, Any}(\"name\" => \"logan\", \"balance\" => 0, \"wallet\" => Wallet(\"GkBBI56Eb8LsXCCPJXVzRnDKrLHTQoal\", 1, PrivateKey(10, scep256k1 Point(𝑥,𝑦):\n",
       "a0434d9e47f3c86235477c7b1ae6ae5d3442d49b1943c2b752a68e2a47e247c7,\n",
       "893aba425419bc27a3b6c7e693a24c696f794c2ed877a1593cbee53b037368d7), \"9ac3259a129d93bc55f16b7db3b446cbff0710f93aeb8e9ce31d1db40a2d59a9\")), \"02bc1e02201f297ab8d38e7861736d416acaeba0e59e09331433799e388ed1fd\" => Dict{String, Any}(\"name\" => \"logan\", \"balance\" => 0, \"wallet\" => Wallet(\"ZGppBOalgXlgdRITjXrVk0CK2f0jGmyQ\", 1, PrivateKey(10, scep256k1 Point(𝑥,𝑦):\n",
       "a0434d9e47f3c86235477c7b1ae6ae5d3442d49b1943c2b752a68e2a47e247c7,\n",
       "893aba425419bc27a3b6c7e693a24c696f794c2ed877a1593cbee53b037368d7), \"02bc1e02201f297ab8d38e7861736d416acaeba0e59e09331433799e388ed1fd\")), \"9680e264045b1ec3909b9ae2ea35f36bb57c70a11a9ae0f21cc486af448cfc13\" => Dict{String, Any}(\"name\" => \"alice\", \"balance\" => 0, \"wallet\" => Wallet(\"rMzlmJoU6lGV7GyLjpAxlgcOg1mW358R\", 1, PrivateKey(10, scep256k1 Point(𝑥,𝑦):\n",
       "a0434d9e47f3c86235477c7b1ae6ae5d3442d49b1943c2b752a68e2a47e247c7,\n",
       "893aba425419bc27a3b6c7e693a24c696f794c2ed877a1593cbee53b037368d7), \"9680e264045b1ec3909b9ae2ea35f36bb57c70a11a9ae0f21cc486af448cfc13\")), \"8df6ee9190d6b823deeb962a4f2030b48bbd7fccd82b11a68f42b1bb5e25f114\" => Dict{String, Any}(\"name\" => \"carol\", \"balance\" => 0, \"wallet\" => Wallet(\"pc2W7Vz59U1yl6xBiyZaiM3j7qOJ30U5\", 1, PrivateKey(10, scep256k1 Point(𝑥,𝑦):\n",
       "a0434d9e47f3c86235477c7b1ae6ae5d3442d49b1943c2b752a68e2a47e247c7,\n",
       "893aba425419bc27a3b6c7e693a24c696f794c2ed877a1593cbee53b037368d7), \"8df6ee9190d6b823deeb962a4f2030b48bbd7fccd82b11a68f42b1bb5e25f114\"))))"
      ]
     },
     "execution_count": 34,
     "metadata": {},
     "output_type": "execute_result"
    }
   ],
   "source": [
    "account_registry"
   ]
  },
  {
   "cell_type": "code",
   "execution_count": 35,
   "metadata": {},
   "outputs": [
    {
     "name": "stdout",
     "output_type": "stream",
     "text": [
      "Account 9ac3259a129d93bc55f16b7db3b446cbff0710f93aeb8e9ce31d1db40a2d59a9 already registered"
     ]
    }
   ],
   "source": [
    "register_account(account_registry, [(\"logan\", loganWallet)])"
   ]
  },
  {
   "cell_type": "code",
   "execution_count": 36,
   "metadata": {},
   "outputs": [
    {
     "data": {
      "text/plain": [
       "get_account (generic function with 1 method)"
      ]
     },
     "execution_count": 36,
     "metadata": {},
     "output_type": "execute_result"
    }
   ],
   "source": [
    "function get_account(account_registry::Account_Registry, public_key::String)\n",
    "    \"\"\"\n",
    "    retrieve account from public key of account holder\n",
    "\n",
    "    Parameters\n",
    "    ----------\n",
    "    public_key :\n",
    "        public key of account holder\n",
    "    \"\"\"\n",
    "    \n",
    "    if (public_key in keys(account_registry.accounts))\n",
    "        return account_registry.accounts[public_key]\n",
    "    else\n",
    "        print(\"Account $(public_key) is not registered\")\n",
    "    end\n",
    "end"
   ]
  },
  {
   "cell_type": "code",
   "execution_count": 37,
   "metadata": {},
   "outputs": [
    {
     "data": {
      "text/plain": [
       "Dict{String, Any} with 3 entries:\n",
       "  \"name\"    => \"logan\"\n",
       "  \"balance\" => 0\n",
       "  \"wallet\"  => Wallet(\"GkBBI56Eb8LsXCCPJXVzRnDKrLHTQoal\", 1, PrivateKey(10, sce…"
      ]
     },
     "execution_count": 37,
     "metadata": {},
     "output_type": "execute_result"
    }
   ],
   "source": [
    "logansAccount = get_account(account_registry, loganWallet.public_key)"
   ]
  },
  {
   "cell_type": "code",
   "execution_count": 42,
   "metadata": {},
   "outputs": [
    {
     "data": {
      "text/plain": [
       "get_wallet (generic function with 1 method)"
      ]
     },
     "execution_count": 42,
     "metadata": {},
     "output_type": "execute_result"
    }
   ],
   "source": [
    "function get_wallet(account_registry::Account_Registry, public_key::String)\n",
    "    \"\"\"\n",
    "    retrieve wallet of account holder\n",
    "\n",
    "    Parameters\n",
    "    ----------\n",
    "    public_key : ecdsa.keys.VerifyingKey\n",
    "        public key of account holder\n",
    "    \"\"\"\n",
    "    \n",
    "    account = get_account(account_registry, public_key)\n",
    "    return account[\"wallet\"]\n",
    "end"
   ]
  },
  {
   "cell_type": "code",
   "execution_count": 43,
   "metadata": {},
   "outputs": [
    {
     "data": {
      "text/plain": [
       "Wallet(\"GkBBI56Eb8LsXCCPJXVzRnDKrLHTQoal\", 1, PrivateKey(10, scep256k1 Point(𝑥,𝑦):\n",
       "a0434d9e47f3c86235477c7b1ae6ae5d3442d49b1943c2b752a68e2a47e247c7,\n",
       "893aba425419bc27a3b6c7e693a24c696f794c2ed877a1593cbee53b037368d7), \"9ac3259a129d93bc55f16b7db3b446cbff0710f93aeb8e9ce31d1db40a2d59a9\")"
      ]
     },
     "execution_count": 43,
     "metadata": {},
     "output_type": "execute_result"
    }
   ],
   "source": [
    "logansWallet = get_wallet(account_registry, loganWallet.public_key)"
   ]
  },
  {
   "cell_type": "code",
   "execution_count": 44,
   "metadata": {},
   "outputs": [
    {
     "data": {
      "text/plain": [
       "get_balance (generic function with 1 method)"
      ]
     },
     "execution_count": 44,
     "metadata": {},
     "output_type": "execute_result"
    }
   ],
   "source": [
    "function get_balance(account_registry::Account_Registry, public_key::String)\n",
    "    \"\"\"\n",
    "    retrieve current balance of account holder\n",
    "\n",
    "    Parameters\n",
    "    ----------\n",
    "    public_key :\n",
    "        public key of account holder\n",
    "    \"\"\"\n",
    "    account = get_account(account_registry, public_key)\n",
    "    return account[\"balance\"]\n",
    "end"
   ]
  },
  {
   "cell_type": "code",
   "execution_count": 45,
   "metadata": {},
   "outputs": [
    {
     "data": {
      "text/plain": [
       "0"
      ]
     },
     "execution_count": 45,
     "metadata": {},
     "output_type": "execute_result"
    }
   ],
   "source": [
    "logansBalance = get_balance(account_registry, loganWallet.public_key)"
   ]
  },
  {
   "cell_type": "code",
   "execution_count": 47,
   "metadata": {},
   "outputs": [
    {
     "data": {
      "text/plain": [
       "get_name (generic function with 1 method)"
      ]
     },
     "execution_count": 47,
     "metadata": {},
     "output_type": "execute_result"
    }
   ],
   "source": [
    "function get_name(account_registry::Account_Registry, public_key::String)\n",
    "    \"\"\"\n",
    "    retrieve psuedonym of account holder\n",
    "\n",
    "    Parameters\n",
    "    ----------\n",
    "    public_key : \n",
    "        public key of account holder\n",
    "    \"\"\"\n",
    "    account = get_account(account_registry, public_key)\n",
    "    return account[\"name\"]\n",
    "end"
   ]
  },
  {
   "cell_type": "code",
   "execution_count": 48,
   "metadata": {},
   "outputs": [
    {
     "data": {
      "text/plain": [
       "\"logan\""
      ]
     },
     "execution_count": 48,
     "metadata": {},
     "output_type": "execute_result"
    }
   ],
   "source": [
    "logansName = get_name(account_registry, loganWallet.public_key)"
   ]
  },
  {
   "cell_type": "code",
   "execution_count": null,
   "metadata": {},
   "outputs": [],
   "source": []
  }
 ],
 "metadata": {
  "kernelspec": {
   "display_name": "Julia 1.6.0",
   "language": "julia",
   "name": "julia-1.6"
  },
  "language_info": {
   "file_extension": ".jl",
   "mimetype": "application/julia",
   "name": "julia",
   "version": "1.6.0"
  }
 },
 "nbformat": 4,
 "nbformat_minor": 4
}
