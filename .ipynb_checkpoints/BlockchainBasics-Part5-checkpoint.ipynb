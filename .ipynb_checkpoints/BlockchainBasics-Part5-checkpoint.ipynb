{
 "cells": [
  {
   "cell_type": "markdown",
   "metadata": {},
   "source": [
    "# Blockchain Account Registry\n",
    "\n",
    "Now that we have explored the idea of creating a wallet for each individual, the next step is to create a system to manage the accounts. This is an important idea in blockchain for a few reasons, one of which being you need to keep track of how much of the currency everyone on the network has, otherwise, I could show up with 100 more of the coins than you would expect and no one could say anything. In real world terms, imagine that the government knew where each and every dollar was in the world. So if you tried to use a fake 100 dollar bill, they would know right away since your account did not show that dollar. \n",
    "\n",
    "In the example of the government, we would not likely want this given but it would also not be practically possible given the nature of physical currency. But because blockchains only operate in the digital realm, we are able to enforce this anti-fraud and pseudo centralized idea of an account registry."
   ]
  },
  {
   "cell_type": "code",
   "execution_count": 1,
   "metadata": {},
   "outputs": [
    {
     "data": {
      "text/plain": [
       "verify_signature (generic function with 1 method)"
      ]
     },
     "execution_count": 1,
     "metadata": {},
     "output_type": "execute_result"
    }
   ],
   "source": [
    "using Random\n",
    "using ECC\n",
    "using Nettle\n",
    "using SHA\n",
    "\n",
    "# Bring over the code from part 4.\n",
    "struct Wallet\n",
    "    seed::String\n",
    "    secexp::Int # Note that this is not being used correctly right now.\n",
    "    private_key::PrivateKey\n",
    "    public_key::String\n",
    "    \n",
    "    function Wallet(seed_hex=nothing)\n",
    "        if seed_hex != nothing\n",
    "            seed = seed_hex\n",
    "        else\n",
    "            seed = randstring(32)\n",
    "        end\n",
    "        \n",
    "        # Given the ECC package does not provide a public key function, we will make a simple one\n",
    "        # Note that in this case, we updated the input of the sha256 function to be the random string we generated.\n",
    "        new(seed, 1, ECC.PrivateKey(10), bytes2hex(sha256(seed)))\n",
    "    end\n",
    "end\n",
    "\n",
    "# Because of the current limitations of the ECC package, we can only encrypt numbers and not other datatypes.\n",
    "function sign_message(wallet::Wallet, message::Int)\n",
    "    signature = ECC.pksign(wallet.private_key, message)\n",
    "    return(signature)\n",
    "end\n",
    "\n",
    "function verify_signature(wallet::Wallet, signature::Signature, message::Int)\n",
    "    verified = ECC.verify(wallet.private_key.𝑃, message, signature)    \n",
    "    return(verified)\n",
    "end"
   ]
  },
  {
   "cell_type": "code",
   "execution_count": 19,
   "metadata": {},
   "outputs": [],
   "source": [
    "mutable struct Account_Registry\n",
    "    accounts::Dict\n",
    "    \"\"\"\n",
    "    dictionary of accounts; key is hex string representation of public_key; value is dictionary containing:\n",
    "            name : string\n",
    "                arbitrary pseudonym of wallet holder\n",
    "            balance : int\n",
    "                current balance\n",
    "            wallet : Wallet\n",
    "                wallet of account holder\n",
    "    \"\"\"\n",
    "    \n",
    "    # Constructor\n",
    "    function Account_Registry(new_accounts=[])\n",
    "        accounts = Dict()\n",
    "        \n",
    "        # Loop through the passed in accounts\n",
    "        for account in new_accounts\n",
    "            pseudonym, wallet = account\n",
    "            \n",
    "            public_key = wallet.public_key\n",
    "            \n",
    "            if !(public_key in keys(accounts))\n",
    "                accounts[public_key] = Dict(\n",
    "                    \"name\" => pseudonym,\n",
    "                    \"balance\" => 0,\n",
    "                    \"wallet\" => wallet\n",
    "                )\n",
    "                print(accounts)\n",
    "            else\n",
    "                print(\"Account $(public_key) already registered\")\n",
    "            end\n",
    "        end\n",
    "        \n",
    "        # When you use an inner constructor in Julia, you have to explicitly create the object with the new keyword.\n",
    "        new(accounts)\n",
    "    end\n",
    "end"
   ]
  },
  {
   "cell_type": "code",
   "execution_count": 20,
   "metadata": {},
   "outputs": [
    {
     "name": "stdout",
     "output_type": "stream",
     "text": [
      "Dict{Any, Any}(\"e0a7f5f47198d0f3287e042b169a876c7e841bcf226e7df0b4dd509b4c4b2f2f\" => Dict{String, Any}(\"name\" => \"alice\", \"balance\" => 0, \"wallet\" => Wallet(\"ztc05q3wefySqluwl9Rv10UYiRYPiLyU\", 1, PrivateKey(10, scep256k1 Point(𝑥,𝑦):\n",
      "a0434d9e47f3c86235477c7b1ae6ae5d3442d49b1943c2b752a68e2a47e247c7,\n",
      "893aba425419bc27a3b6c7e693a24c696f794c2ed877a1593cbee53b037368d7), \"e0a7f5f47198d0f3287e042b169a876c7e841bcf226e7df0b4dd509b4c4b2f2f\")))Dict{Any, Any}(\"a6b2072a1d1dfb9eb66d6970c78de741a77157b3d77dadbe9af30bd7fc5a7d07\" => Dict{String, Any}(\"name\" => \"bob\", \"balance\" => 0, \"wallet\" => Wallet(\"lRnwId9aibxEOmzVZ3KJ2EkJdOwPDsGp\", 1, PrivateKey(10, scep256k1 Point(𝑥,𝑦):\n",
      "a0434d9e47f3c86235477c7b1ae6ae5d3442d49b1943c2b752a68e2a47e247c7,\n",
      "893aba425419bc27a3b6c7e693a24c696f794c2ed877a1593cbee53b037368d7), \"a6b2072a1d1dfb9eb66d6970c78de741a77157b3d77dadbe9af30bd7fc5a7d07\")), \"e0a7f5f47198d0f3287e042b169a876c7e841bcf226e7df0b4dd509b4c4b2f2f\" => Dict{String, Any}(\"name\" => \"alice\", \"balance\" => 0, \"wallet\" => Wallet(\"ztc05q3wefySqluwl9Rv10UYiRYPiLyU\", 1, PrivateKey(10, scep256k1 Point(𝑥,𝑦):\n",
      "a0434d9e47f3c86235477c7b1ae6ae5d3442d49b1943c2b752a68e2a47e247c7,\n",
      "893aba425419bc27a3b6c7e693a24c696f794c2ed877a1593cbee53b037368d7), \"e0a7f5f47198d0f3287e042b169a876c7e841bcf226e7df0b4dd509b4c4b2f2f\")))Dict{Any, Any}(\"66aed674df698cd796268b24317bb29f7d3f2f699794efd44ade73b6ddaa866f\" => Dict{String, Any}(\"name\" => \"carol\", \"balance\" => 0, \"wallet\" => Wallet(\"Gk7MK7TyuL7jFcUQmYsJM9y4xEIOjsAd\", 1, PrivateKey(10, scep256k1 Point(𝑥,𝑦):\n",
      "a0434d9e47f3c86235477c7b1ae6ae5d3442d49b1943c2b752a68e2a47e247c7,\n",
      "893aba425419bc27a3b6c7e693a24c696f794c2ed877a1593cbee53b037368d7), \"66aed674df698cd796268b24317bb29f7d3f2f699794efd44ade73b6ddaa866f\")), \"a6b2072a1d1dfb9eb66d6970c78de741a77157b3d77dadbe9af30bd7fc5a7d07\" => Dict{String, Any}(\"name\" => \"bob\", \"balance\" => 0, \"wallet\" => Wallet(\"lRnwId9aibxEOmzVZ3KJ2EkJdOwPDsGp\", 1, PrivateKey(10, scep256k1 Point(𝑥,𝑦):\n",
      "a0434d9e47f3c86235477c7b1ae6ae5d3442d49b1943c2b752a68e2a47e247c7,\n",
      "893aba425419bc27a3b6c7e693a24c696f794c2ed877a1593cbee53b037368d7), \"a6b2072a1d1dfb9eb66d6970c78de741a77157b3d77dadbe9af30bd7fc5a7d07\")), \"e0a7f5f47198d0f3287e042b169a876c7e841bcf226e7df0b4dd509b4c4b2f2f\" => Dict{String, Any}(\"name\" => \"alice\", \"balance\" => 0, \"wallet\" => Wallet(\"ztc05q3wefySqluwl9Rv10UYiRYPiLyU\", 1, PrivateKey(10, scep256k1 Point(𝑥,𝑦):\n",
      "a0434d9e47f3c86235477c7b1ae6ae5d3442d49b1943c2b752a68e2a47e247c7,\n",
      "893aba425419bc27a3b6c7e693a24c696f794c2ed877a1593cbee53b037368d7), \"e0a7f5f47198d0f3287e042b169a876c7e841bcf226e7df0b4dd509b4c4b2f2f\")))"
     ]
    },
    {
     "data": {
      "text/plain": [
       "Account_Registry(Dict{Any, Any}(\"66aed674df698cd796268b24317bb29f7d3f2f699794efd44ade73b6ddaa866f\" => Dict{String, Any}(\"name\" => \"carol\", \"balance\" => 0, \"wallet\" => Wallet(\"Gk7MK7TyuL7jFcUQmYsJM9y4xEIOjsAd\", 1, PrivateKey(10, scep256k1 Point(𝑥,𝑦):\n",
       "a0434d9e47f3c86235477c7b1ae6ae5d3442d49b1943c2b752a68e2a47e247c7,\n",
       "893aba425419bc27a3b6c7e693a24c696f794c2ed877a1593cbee53b037368d7), \"66aed674df698cd796268b24317bb29f7d3f2f699794efd44ade73b6ddaa866f\")), \"a6b2072a1d1dfb9eb66d6970c78de741a77157b3d77dadbe9af30bd7fc5a7d07\" => Dict{String, Any}(\"name\" => \"bob\", \"balance\" => 0, \"wallet\" => Wallet(\"lRnwId9aibxEOmzVZ3KJ2EkJdOwPDsGp\", 1, PrivateKey(10, scep256k1 Point(𝑥,𝑦):\n",
       "a0434d9e47f3c86235477c7b1ae6ae5d3442d49b1943c2b752a68e2a47e247c7,\n",
       "893aba425419bc27a3b6c7e693a24c696f794c2ed877a1593cbee53b037368d7), \"a6b2072a1d1dfb9eb66d6970c78de741a77157b3d77dadbe9af30bd7fc5a7d07\")), \"e0a7f5f47198d0f3287e042b169a876c7e841bcf226e7df0b4dd509b4c4b2f2f\" => Dict{String, Any}(\"name\" => \"alice\", \"balance\" => 0, \"wallet\" => Wallet(\"ztc05q3wefySqluwl9Rv10UYiRYPiLyU\", 1, PrivateKey(10, scep256k1 Point(𝑥,𝑦):\n",
       "a0434d9e47f3c86235477c7b1ae6ae5d3442d49b1943c2b752a68e2a47e247c7,\n",
       "893aba425419bc27a3b6c7e693a24c696f794c2ed877a1593cbee53b037368d7), \"e0a7f5f47198d0f3287e042b169a876c7e841bcf226e7df0b4dd509b4c4b2f2f\"))))"
      ]
     },
     "execution_count": 20,
     "metadata": {},
     "output_type": "execute_result"
    }
   ],
   "source": [
    "aliceWallet = Wallet()\n",
    "bobWallet = Wallet()\n",
    "carolWallet = Wallet()\n",
    "\n",
    "account_registry = Account_Registry([(\"alice\", aliceWallet), (\"bob\", bobWallet), (\"carol\", carolWallet)])"
   ]
  },
  {
   "cell_type": "code",
   "execution_count": 22,
   "metadata": {},
   "outputs": [
    {
     "data": {
      "text/plain": [
       "Account_Registry(Dict{Any, Any}(\"66aed674df698cd796268b24317bb29f7d3f2f699794efd44ade73b6ddaa866f\" => Dict{String, Any}(\"name\" => \"carol\", \"balance\" => 0, \"wallet\" => Wallet(\"Gk7MK7TyuL7jFcUQmYsJM9y4xEIOjsAd\", 1, PrivateKey(10, scep256k1 Point(𝑥,𝑦):\n",
       "a0434d9e47f3c86235477c7b1ae6ae5d3442d49b1943c2b752a68e2a47e247c7,\n",
       "893aba425419bc27a3b6c7e693a24c696f794c2ed877a1593cbee53b037368d7), \"66aed674df698cd796268b24317bb29f7d3f2f699794efd44ade73b6ddaa866f\")), \"a6b2072a1d1dfb9eb66d6970c78de741a77157b3d77dadbe9af30bd7fc5a7d07\" => Dict{String, Any}(\"name\" => \"bob\", \"balance\" => 0, \"wallet\" => Wallet(\"lRnwId9aibxEOmzVZ3KJ2EkJdOwPDsGp\", 1, PrivateKey(10, scep256k1 Point(𝑥,𝑦):\n",
       "a0434d9e47f3c86235477c7b1ae6ae5d3442d49b1943c2b752a68e2a47e247c7,\n",
       "893aba425419bc27a3b6c7e693a24c696f794c2ed877a1593cbee53b037368d7), \"a6b2072a1d1dfb9eb66d6970c78de741a77157b3d77dadbe9af30bd7fc5a7d07\")), \"e0a7f5f47198d0f3287e042b169a876c7e841bcf226e7df0b4dd509b4c4b2f2f\" => Dict{String, Any}(\"name\" => \"alice\", \"balance\" => 0, \"wallet\" => Wallet(\"ztc05q3wefySqluwl9Rv10UYiRYPiLyU\", 1, PrivateKey(10, scep256k1 Point(𝑥,𝑦):\n",
       "a0434d9e47f3c86235477c7b1ae6ae5d3442d49b1943c2b752a68e2a47e247c7,\n",
       "893aba425419bc27a3b6c7e693a24c696f794c2ed877a1593cbee53b037368d7), \"e0a7f5f47198d0f3287e042b169a876c7e841bcf226e7df0b4dd509b4c4b2f2f\"))))"
      ]
     },
     "execution_count": 22,
     "metadata": {},
     "output_type": "execute_result"
    }
   ],
   "source": [
    "account_registry"
   ]
  },
  {
   "cell_type": "code",
   "execution_count": 6,
   "metadata": {},
   "outputs": [
    {
     "data": {
      "text/plain": [
       "false"
      ]
     },
     "execution_count": 6,
     "metadata": {},
     "output_type": "execute_result"
    }
   ],
   "source": []
  },
  {
   "cell_type": "code",
   "execution_count": null,
   "metadata": {},
   "outputs": [],
   "source": []
  }
 ],
 "metadata": {
  "kernelspec": {
   "display_name": "Julia 1.6.0",
   "language": "julia",
   "name": "julia-1.6"
  },
  "language_info": {
   "file_extension": ".jl",
   "mimetype": "application/julia",
   "name": "julia",
   "version": "1.6.0"
  }
 },
 "nbformat": 4,
 "nbformat_minor": 4
}
